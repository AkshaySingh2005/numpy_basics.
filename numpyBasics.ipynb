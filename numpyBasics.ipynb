{
  "nbformat": 4,
  "nbformat_minor": 0,
  "metadata": {
    "colab": {
      "provenance": [],
      "authorship_tag": "ABX9TyMVbh7IJXWYXWv0iySVDm0U",
      "include_colab_link": true
    },
    "kernelspec": {
      "name": "python3",
      "display_name": "Python 3"
    },
    "language_info": {
      "name": "python"
    }
  },
  "cells": [
    {
      "cell_type": "markdown",
      "metadata": {
        "id": "view-in-github",
        "colab_type": "text"
      },
      "source": [
        "<a href=\"https://colab.research.google.com/github/AkshaySingh2005/numpy_basics./blob/main/numpyBasics.ipynb\" target=\"_parent\"><img src=\"https://colab.research.google.com/assets/colab-badge.svg\" alt=\"Open In Colab\"/></a>"
      ]
    },
    {
      "cell_type": "markdown",
      "source": [
        "**Numpy**\n",
        "\n",
        "*  Handling multi-dimensional arrays and matrices.\n",
        "*  Performing mathematical operations on these arrays efficiently.\n",
        "\n",
        "\n",
        "\n",
        "\n",
        "\n",
        "\n",
        "\n",
        "\n",
        "\n"
      ],
      "metadata": {
        "id": "ipb-Cpz_Va1N"
      }
    },
    {
      "cell_type": "code",
      "execution_count": 1,
      "metadata": {
        "id": "IGL0qEPxUvsm"
      },
      "outputs": [],
      "source": [
        "import numpy as np"
      ]
    },
    {
      "cell_type": "code",
      "source": [
        "print('1D Array')\n",
        "a = np.array([1,2,3,4])\n",
        "print(a)\n",
        "print(type(a))\n",
        "print(a.size)\n",
        "print(a.shape)\n",
        "print(a.dtype)\n",
        "\n",
        "#---------------------------\n",
        "\n",
        "print('2D Array')\n",
        "b = np.array([[\"a\",\"b\",\"c\"],[\"d\",\"e\",\"f\"]])\n",
        "print(b)\n",
        "print(type(b))\n",
        "print(b.size)\n",
        "print(b.shape)\n",
        "print(b.dtype)\n",
        "\n",
        "#---------------------------\n",
        "\n",
        "print('3D Array')\n",
        "c = np.array([[[1,2,3,4,5],[6,7,8,9,10],[11,12,13,14,15]]])\n",
        "print(c)\n",
        "print(type(c))\n",
        "print(c.size)\n",
        "print(c.shape)\n",
        "print(c.dtype)"
      ],
      "metadata": {
        "colab": {
          "base_uri": "https://localhost:8080/"
        },
        "id": "tJkID8MPVso8",
        "outputId": "c8b06039-d09f-4b48-ca73-756136eeffa7"
      },
      "execution_count": 23,
      "outputs": [
        {
          "output_type": "stream",
          "name": "stdout",
          "text": [
            "1D Array\n",
            "[1 2 3 4]\n",
            "<class 'numpy.ndarray'>\n",
            "4\n",
            "(4,)\n",
            "int64\n",
            "2D Array\n",
            "[['a' 'b' 'c']\n",
            " ['d' 'e' 'f']]\n",
            "<class 'numpy.ndarray'>\n",
            "6\n",
            "(2, 3)\n",
            "<U1\n",
            "3D Array\n",
            "[[[ 1  2  3  4  5]\n",
            "  [ 6  7  8  9 10]\n",
            "  [11 12 13 14 15]]]\n",
            "<class 'numpy.ndarray'>\n",
            "15\n",
            "(1, 3, 5)\n",
            "int64\n"
          ]
        }
      ]
    },
    {
      "cell_type": "code",
      "source": [
        "print(b.transpose())\n",
        "a1 = np.array([1, 2, 3])\n",
        "b1 = np.array([4, 5, 6])\n",
        "print(a1+b1)\n",
        "print(a1 * b1)\n"
      ],
      "metadata": {
        "colab": {
          "base_uri": "https://localhost:8080/"
        },
        "id": "OIiIs5D5WEUm",
        "outputId": "69c6b6ef-0ea2-4546-ea0e-3ad2fdfebded"
      },
      "execution_count": 32,
      "outputs": [
        {
          "output_type": "stream",
          "name": "stdout",
          "text": [
            "[['a' 'd']\n",
            " ['b' 'e']\n",
            " ['c' 'f']]\n",
            "[5 7 9]\n",
            "[ 4 10 18]\n"
          ]
        }
      ]
    },
    {
      "cell_type": "code",
      "source": [
        "#random data -->default is float\n",
        "print(np.empty((4,4),dtype=int))\n",
        "print(np.zeros((3,5)))\n",
        "print(np.ones((3,5),dtype=str))"
      ],
      "metadata": {
        "colab": {
          "base_uri": "https://localhost:8080/"
        },
        "id": "_5KjB5DyYiaC",
        "outputId": "4cd9c4a2-5485-4848-d9fa-5a82a18efdaa"
      },
      "execution_count": 27,
      "outputs": [
        {
          "output_type": "stream",
          "name": "stdout",
          "text": [
            "[[   826752679            0 489626271861 433791696995]\n",
            " [498216206368 468151435365 476741369968 416611827826]\n",
            " [450971566194 519691042924 502511173664 416611827822]\n",
            " [416611827830 463856468073 420906795105 433791697004]]\n",
            "[[0. 0. 0. 0. 0.]\n",
            " [0. 0. 0. 0. 0.]\n",
            " [0. 0. 0. 0. 0.]]\n",
            "[['1' '1' '1' '1' '1']\n",
            " ['1' '1' '1' '1' '1']\n",
            " ['1' '1' '1' '1' '1']]\n"
          ]
        }
      ]
    },
    {
      "cell_type": "code",
      "source": [
        "print(np.arange(1,20))\n",
        "print(np.arange(2,20,2))\n",
        "ar = np.array([1,2,3,4])\n",
        "print(ar.reshape(2,2))\n",
        "print(ar.flatten())"
      ],
      "metadata": {
        "colab": {
          "base_uri": "https://localhost:8080/"
        },
        "id": "6eOAuJY_YuEf",
        "outputId": "c0b0aa4a-f3d3-41b2-e1a9-39eb15bf3bc4"
      },
      "execution_count": 44,
      "outputs": [
        {
          "output_type": "stream",
          "name": "stdout",
          "text": [
            "[ 1  2  3  4  5  6  7  8  9 10 11 12 13 14 15 16 17 18 19]\n",
            "[ 2  4  6  8 10 12 14 16 18]\n",
            "[[1 2]\n",
            " [3 4]]\n",
            "[1 2 3 4]\n"
          ]
        }
      ]
    },
    {
      "cell_type": "code",
      "source": [
        "arn = np.arange(1, 51).reshape(10, 5)\n",
        "print(arn)\n",
        "\n",
        "print(np.sum(arn, axis=0)) # Column-wise sum (vertical)\n",
        "print(np.sum(arn, axis=1)) # Row-wise sum (horizontal)\n",
        "print(np.mean(arn))\n",
        "print(np.median(arn))\n",
        "print(np.std(arn))\n",
        "print(np.var(arn))"
      ],
      "metadata": {
        "colab": {
          "base_uri": "https://localhost:8080/"
        },
        "id": "WC4t1PUrcPOV",
        "outputId": "ff7ee4e2-10fd-4006-8ab5-226a490b8e51"
      },
      "execution_count": 53,
      "outputs": [
        {
          "output_type": "stream",
          "name": "stdout",
          "text": [
            "[[ 1  2  3  4  5]\n",
            " [ 6  7  8  9 10]\n",
            " [11 12 13 14 15]\n",
            " [16 17 18 19 20]\n",
            " [21 22 23 24 25]\n",
            " [26 27 28 29 30]\n",
            " [31 32 33 34 35]\n",
            " [36 37 38 39 40]\n",
            " [41 42 43 44 45]\n",
            " [46 47 48 49 50]]\n",
            "[235 245 255 265 275]\n",
            "[ 15  40  65  90 115 140 165 190 215 240]\n",
            "25.5\n",
            "25.5\n",
            "14.430869689661812\n",
            "208.25\n"
          ]
        }
      ]
    },
    {
      "cell_type": "code",
      "source": [
        "print(np.random.randint(1,10))\n",
        "print(np.random.randint(1, 10, size=(5, 5)))\n",
        "print(np.random.randn(5, 5))\n"
      ],
      "metadata": {
        "colab": {
          "base_uri": "https://localhost:8080/"
        },
        "id": "lM2OwdtdjEFB",
        "outputId": "ab75739a-e4e8-4e3f-9145-19752888629b"
      },
      "execution_count": 70,
      "outputs": [
        {
          "output_type": "stream",
          "name": "stdout",
          "text": [
            "7\n",
            "[[7 4 1 4 4]\n",
            " [5 2 5 7 3]\n",
            " [7 3 1 9 5]\n",
            " [9 1 6 8 1]\n",
            " [9 6 9 3 9]]\n",
            "[[ 0.40371709  0.66118027 -0.51884817 -0.32825954  1.48777824]\n",
            " [-0.75694489  1.36527994 -1.42795659 -1.35794299 -1.04889475]\n",
            " [ 0.312984    1.40671355 -0.68332963 -0.43121711 -0.32172413]\n",
            " [-0.25400767  1.31290678 -0.62922522  0.07556871 -0.09465429]\n",
            " [ 1.75571434  0.20812547  1.50241611  0.22602914  2.91208663]]\n"
          ]
        }
      ]
    }
  ]
}